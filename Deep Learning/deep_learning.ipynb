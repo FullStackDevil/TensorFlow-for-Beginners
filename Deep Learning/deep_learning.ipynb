{
 "cells": [
  {
   "cell_type": "markdown",
   "metadata": {},
   "source": [
    "# TensorFlow: Deep Learning"
   ]
  },
  {
   "cell_type": "code",
   "execution_count": 1,
   "metadata": {
    "collapsed": true,
    "deletable": true,
    "editable": true
   },
   "outputs": [],
   "source": [
    "import tensorflow as tf\n",
    "import numpy as np"
   ]
  },
  {
   "cell_type": "markdown",
   "metadata": {
    "deletable": true,
    "editable": true
   },
   "source": [
    "### Create Model"
   ]
  },
  {
   "cell_type": "code",
   "execution_count": 2,
   "metadata": {
    "collapsed": false,
    "deletable": true,
    "editable": true
   },
   "outputs": [],
   "source": [
    "from collections import OrderedDict"
   ]
  },
  {
   "cell_type": "code",
   "execution_count": 3,
   "metadata": {
    "collapsed": false,
    "deletable": true,
    "editable": true
   },
   "outputs": [],
   "source": [
    "def create_dense_layer(inputs, n_nodes, activation=None, dropout=None):\n",
    "    return tf.layers.dense(inputs=inputs,\n",
    "                           units=n_nodes,\n",
    "                           activation=activation)\n",
    "    \n",
    "    \n",
    "\n",
    "def create_dropout(inputs, rate, mode):\n",
    "    return tf.layers.dropout(inputs=inputs, \n",
    "                             rate=rate, \n",
    "                             training=mode == tf.estimator.ModeKeys.TRAIN)\n",
    "\n",
    "\n",
    "\n",
    "\n",
    "# tf.logging.set_verbosity(tf.logging.INFO)\n",
    "\n",
    "\n",
    "def deep_model_fn(features, labels, mode, params):\n",
    "    \"\"\"Model function for creating dense models\"\"\"\n",
    "    from collections import OrderedDict\n",
    "    \n",
    "    layers_dict = OrderedDict()\n",
    "    # Input Layer\n",
    "    layers_dict['input_layer'] = features[\"x\"]\n",
    "\n",
    "    # create layers from layers param\n",
    "    for i,layer in enumerate(params['layers']):\n",
    "        layer['inputs'] = list(layers_dict.values())[-1]\n",
    "        if layer == params['layers'][-1]:\n",
    "            key = 'logits'\n",
    "        else:\n",
    "            key = 'layer' + str(i)\n",
    "        layers_dict[key] = create_dense_layer(**layer)\n",
    "        if layer['dropout']:\n",
    "            layers_dict['dropout_l' + str(i)] = create_dropout(list(layers_dict.values())[-1],\n",
    "                                                               rate=layer['dropout'],\n",
    "                                                               mode=mode)\n",
    "    print(list(layers_dict.keys()))\n",
    "\n",
    "\n",
    "    predictions = {\n",
    "        # Generate predictions (for PREDICT and EVAL mode)\n",
    "        \"classes\": tf.argmax(input=layers_dict['logits'], axis=1),\n",
    "        # Add `softmax_tensor` to the graph. It is used for PREDICT and by the\n",
    "        # `logging_hook`.\n",
    "        \"probabilities\": tf.nn.softmax(layers_dict['logits'], name=\"softmax_tensor\")\n",
    "    }\n",
    "    \n",
    "    if mode == tf.estimator.ModeKeys.PREDICT:\n",
    "        return tf.estimator.EstimatorSpec(mode=mode, predictions=predictions)\n",
    "\n",
    "    # Calculate Loss (for both TRAIN and EVAL modes)\n",
    "    onehot_labels = tf.one_hot(indices=tf.cast(labels, tf.int32), depth=10)\n",
    "    loss = tf.losses.softmax_cross_entropy(\n",
    "        onehot_labels=onehot_labels, logits=layers_dict['logits'])\n",
    "\n",
    "    # Configure the Training Op (for TRAIN mode)\n",
    "    if mode == tf.estimator.ModeKeys.TRAIN:\n",
    "        optimizer = tf.train.GradientDescentOptimizer(learning_rate=params['learning_rate'])\n",
    "        train_op = optimizer.minimize(\n",
    "            loss=loss,\n",
    "            global_step=tf.train.get_global_step())\n",
    "        return tf.estimator.EstimatorSpec(mode=mode, loss=loss, train_op=train_op)\n",
    "\n",
    "    # Add evaluation metrics (for EVAL mode)\n",
    "    eval_metric_ops = {\n",
    "        \"accuracy\": tf.metrics.accuracy(\n",
    "            labels=labels, predictions=predictions[\"classes\"])}\n",
    "    return tf.estimator.EstimatorSpec(\n",
    "        mode=mode, loss=loss, eval_metric_ops=eval_metric_ops)\n",
    "    \n",
    "\n",
    "def main(model_params=None, mode='train', model_dir=None):\n",
    "    # Load training and eval data\n",
    "    mnist = tf.contrib.learn.datasets.load_dataset(\"mnist\")\n",
    "    train_data = mnist.train.images  # Returns np.array\n",
    "    train_labels = np.asarray(mnist.train.labels, dtype=np.int32)\n",
    "    eval_data = mnist.test.images  # Returns np.array\n",
    "    eval_labels = np.asarray(mnist.test.labels, dtype=np.int32)\n",
    "#     train_data = X['train']\n",
    "#     train_labels = y['train']\n",
    "    \n",
    "#     eval_data = X['test']\n",
    "#     eval_labels = y['test']\n",
    "\n",
    "    # Create the Estimator\n",
    "    if not model_dir:\n",
    "        import os\n",
    "        model_dir = '/tmp/mnist_deep_model'\n",
    "        if mode == 'train':\n",
    "            _ = os.system('rm -rf ' + model_dir)\n",
    "    mnist_classifier = tf.estimator.Estimator(\n",
    "        model_fn=deep_model_fn,\n",
    "        params=model_params,\n",
    "        model_dir=model_dir)\n",
    "\n",
    "\n",
    "    # Train the model\n",
    "    if mode == 'train':\n",
    "        train_input_fn = tf.estimator.inputs.numpy_input_fn(\n",
    "            x={\"x\": train_data},\n",
    "            y=train_labels,\n",
    "            batch_size=100,\n",
    "            num_epochs=10,\n",
    "            shuffle=True)\n",
    "        mnist_classifier.train(\n",
    "            input_fn=train_input_fn)\n",
    "    elif mode == 'predict':\n",
    "        predict_input_fn = tf.estimator.inputs.numpy_input_fn(\n",
    "            x={\"x\": eval_data},\n",
    "            num_epochs=1,\n",
    "            shuffle=False)\n",
    "        preds = mnist_classifier.predict(\n",
    "            input_fn=predict_input_fn)\n",
    "        return [p for p in preds], eval_labels\n",
    "    elif mode == 'eval':\n",
    "        # Evaluate the model and print results\n",
    "        eval_input_fn = tf.estimator.inputs.numpy_input_fn(\n",
    "            x={\"x\": eval_data},\n",
    "            y=eval_labels,\n",
    "            num_epochs=1,\n",
    "            shuffle=False)\n",
    "        eval_results = mnist_classifier.evaluate(input_fn=eval_input_fn)\n",
    "        print(eval_results)"
   ]
  },
  {
   "cell_type": "code",
   "execution_count": 15,
   "metadata": {
    "collapsed": true,
    "deletable": true,
    "editable": true
   },
   "outputs": [],
   "source": [
    "layers = [{'n_nodes': 1024, 'activation': tf.nn.relu, 'dropout': None},\n",
    "          {'n_nodes': 512, 'activation': tf.nn.relu, 'dropout': 0.4},\n",
    "          {'n_nodes': 256, 'activation': tf.nn.relu, 'dropout': None},\n",
    "#           {'n_nodes': 256, 'activation': tf.nn.relu, 'dropout': 0.4},\n",
    "          {'n_nodes': 128, 'activation': tf.nn.relu, 'dropout': 0.4},\n",
    "#           {'n_nodes': 64, 'activation': tf.nn.relu, 'dropout': 0.2},\n",
    "          {'n_nodes': 10, 'activation': None, 'dropout': None}]"
   ]
  },
  {
   "cell_type": "code",
   "execution_count": 16,
   "metadata": {
    "collapsed": false,
    "deletable": true,
    "editable": true
   },
   "outputs": [],
   "source": [
    "model_params = {'learning_rate': 0.01,\n",
    "                'layers': layers}"
   ]
  },
  {
   "cell_type": "code",
   "execution_count": 17,
   "metadata": {
    "collapsed": false,
    "deletable": true,
    "editable": true,
    "scrolled": true
   },
   "outputs": [
    {
     "name": "stdout",
     "output_type": "stream",
     "text": [
      "Extracting MNIST-data/train-images-idx3-ubyte.gz\n",
      "Extracting MNIST-data/train-labels-idx1-ubyte.gz\n",
      "Extracting MNIST-data/t10k-images-idx3-ubyte.gz\n",
      "Extracting MNIST-data/t10k-labels-idx1-ubyte.gz\n",
      "INFO:tensorflow:Using default config.\n",
      "INFO:tensorflow:Using config: {'_keep_checkpoint_every_n_hours': 10000, '_model_dir': '/tmp/mnist_deep_model', '_session_config': None, '_tf_random_seed': 1, '_keep_checkpoint_max': 5, '_save_checkpoints_steps': None, '_save_checkpoints_secs': 600, '_log_step_count_steps': 100, '_save_summary_steps': 100}\n",
      "['input_layer', 'layer0', 'layer1', 'dropout_l1', 'layer2', 'layer3', 'dropout_l3', 'layer4', 'dropout_l4', 'layer5', 'dropout_l5', 'logits']\n",
      "INFO:tensorflow:Create CheckpointSaverHook.\n",
      "INFO:tensorflow:Saving checkpoints for 1 into /tmp/mnist_deep_model/model.ckpt.\n",
      "INFO:tensorflow:step = 1, loss = 2.3295822\n",
      "INFO:tensorflow:global_step/sec: 336.081\n",
      "INFO:tensorflow:step = 101, loss = 2.2918246 (0.298 sec)\n",
      "INFO:tensorflow:global_step/sec: 364.241\n",
      "INFO:tensorflow:step = 201, loss = 2.1879826 (0.274 sec)\n",
      "INFO:tensorflow:global_step/sec: 368.67\n",
      "INFO:tensorflow:step = 301, loss = 2.1973248 (0.271 sec)\n",
      "INFO:tensorflow:global_step/sec: 405.995\n",
      "INFO:tensorflow:step = 401, loss = 1.9825481 (0.246 sec)\n",
      "INFO:tensorflow:global_step/sec: 362.981\n",
      "INFO:tensorflow:step = 501, loss = 1.9240419 (0.275 sec)\n",
      "INFO:tensorflow:global_step/sec: 387.447\n",
      "INFO:tensorflow:step = 601, loss = 1.609399 (0.258 sec)\n",
      "INFO:tensorflow:global_step/sec: 377.898\n",
      "INFO:tensorflow:step = 701, loss = 1.3241485 (0.265 sec)\n",
      "INFO:tensorflow:global_step/sec: 418.52\n",
      "INFO:tensorflow:step = 801, loss = 0.9207439 (0.238 sec)\n",
      "INFO:tensorflow:global_step/sec: 416.662\n",
      "INFO:tensorflow:step = 901, loss = 1.2048819 (0.240 sec)\n",
      "INFO:tensorflow:global_step/sec: 410.76\n",
      "INFO:tensorflow:step = 1001, loss = 0.8925256 (0.243 sec)\n",
      "INFO:tensorflow:global_step/sec: 417.556\n",
      "INFO:tensorflow:step = 1101, loss = 0.8273441 (0.240 sec)\n",
      "INFO:tensorflow:global_step/sec: 434.891\n",
      "INFO:tensorflow:step = 1201, loss = 0.76093805 (0.230 sec)\n",
      "INFO:tensorflow:global_step/sec: 428.04\n",
      "INFO:tensorflow:step = 1301, loss = 0.59109306 (0.233 sec)\n",
      "INFO:tensorflow:global_step/sec: 454.258\n",
      "INFO:tensorflow:step = 1401, loss = 0.61033994 (0.220 sec)\n",
      "INFO:tensorflow:global_step/sec: 433.181\n",
      "INFO:tensorflow:step = 1501, loss = 0.567933 (0.231 sec)\n",
      "INFO:tensorflow:global_step/sec: 434.643\n",
      "INFO:tensorflow:step = 1601, loss = 0.6880943 (0.230 sec)\n",
      "INFO:tensorflow:global_step/sec: 431.381\n",
      "INFO:tensorflow:step = 1701, loss = 0.48501453 (0.232 sec)\n",
      "INFO:tensorflow:global_step/sec: 446.829\n",
      "INFO:tensorflow:step = 1801, loss = 0.3978282 (0.224 sec)\n",
      "INFO:tensorflow:global_step/sec: 460.544\n",
      "INFO:tensorflow:step = 1901, loss = 0.4444071 (0.217 sec)\n",
      "INFO:tensorflow:global_step/sec: 439.537\n",
      "INFO:tensorflow:step = 2001, loss = 0.5326029 (0.228 sec)\n",
      "INFO:tensorflow:global_step/sec: 448.919\n",
      "INFO:tensorflow:step = 2101, loss = 0.40943062 (0.223 sec)\n",
      "INFO:tensorflow:global_step/sec: 439.25\n",
      "INFO:tensorflow:step = 2201, loss = 0.5652848 (0.228 sec)\n",
      "INFO:tensorflow:global_step/sec: 430.265\n",
      "INFO:tensorflow:step = 2301, loss = 0.47457024 (0.232 sec)\n",
      "INFO:tensorflow:global_step/sec: 437.748\n",
      "INFO:tensorflow:step = 2401, loss = 0.53451365 (0.229 sec)\n",
      "INFO:tensorflow:global_step/sec: 434.367\n",
      "INFO:tensorflow:step = 2501, loss = 0.36371005 (0.230 sec)\n",
      "INFO:tensorflow:global_step/sec: 409.772\n",
      "INFO:tensorflow:step = 2601, loss = 0.37146622 (0.244 sec)\n",
      "INFO:tensorflow:global_step/sec: 442.599\n",
      "INFO:tensorflow:step = 2701, loss = 0.46986008 (0.227 sec)\n",
      "INFO:tensorflow:global_step/sec: 378.638\n",
      "INFO:tensorflow:step = 2801, loss = 0.3011246 (0.263 sec)\n",
      "INFO:tensorflow:global_step/sec: 441.158\n",
      "INFO:tensorflow:step = 2901, loss = 0.4394721 (0.227 sec)\n",
      "INFO:tensorflow:global_step/sec: 419.517\n",
      "INFO:tensorflow:step = 3001, loss = 0.36495015 (0.238 sec)\n",
      "INFO:tensorflow:global_step/sec: 420.771\n",
      "INFO:tensorflow:step = 3101, loss = 0.52611494 (0.238 sec)\n",
      "INFO:tensorflow:global_step/sec: 408.011\n",
      "INFO:tensorflow:step = 3201, loss = 0.2533475 (0.245 sec)\n",
      "INFO:tensorflow:global_step/sec: 413.763\n",
      "INFO:tensorflow:step = 3301, loss = 0.27939737 (0.242 sec)\n",
      "INFO:tensorflow:global_step/sec: 446.276\n",
      "INFO:tensorflow:step = 3401, loss = 0.24007057 (0.225 sec)\n",
      "INFO:tensorflow:global_step/sec: 406.32\n",
      "INFO:tensorflow:step = 3501, loss = 0.45324066 (0.246 sec)\n",
      "INFO:tensorflow:global_step/sec: 429.731\n",
      "INFO:tensorflow:step = 3601, loss = 0.2931113 (0.233 sec)\n",
      "INFO:tensorflow:global_step/sec: 446.042\n",
      "INFO:tensorflow:step = 3701, loss = 0.23652709 (0.224 sec)\n",
      "INFO:tensorflow:global_step/sec: 422.921\n",
      "INFO:tensorflow:step = 3801, loss = 0.21616791 (0.236 sec)\n",
      "INFO:tensorflow:global_step/sec: 453.22\n",
      "INFO:tensorflow:step = 3901, loss = 0.2782703 (0.221 sec)\n",
      "INFO:tensorflow:global_step/sec: 423.406\n",
      "INFO:tensorflow:step = 4001, loss = 0.2676196 (0.236 sec)\n",
      "INFO:tensorflow:global_step/sec: 425.247\n",
      "INFO:tensorflow:step = 4101, loss = 0.3854305 (0.235 sec)\n",
      "INFO:tensorflow:global_step/sec: 426.454\n",
      "INFO:tensorflow:step = 4201, loss = 0.28073055 (0.235 sec)\n",
      "INFO:tensorflow:global_step/sec: 433.994\n",
      "INFO:tensorflow:step = 4301, loss = 0.18831384 (0.231 sec)\n",
      "INFO:tensorflow:global_step/sec: 393.448\n",
      "INFO:tensorflow:step = 4401, loss = 0.18151276 (0.254 sec)\n",
      "INFO:tensorflow:global_step/sec: 418.876\n",
      "INFO:tensorflow:step = 4501, loss = 0.21144065 (0.238 sec)\n",
      "INFO:tensorflow:global_step/sec: 437.149\n",
      "INFO:tensorflow:step = 4601, loss = 0.21190527 (0.229 sec)\n",
      "INFO:tensorflow:global_step/sec: 422.172\n",
      "INFO:tensorflow:step = 4701, loss = 0.28370678 (0.237 sec)\n",
      "INFO:tensorflow:global_step/sec: 362.252\n",
      "INFO:tensorflow:step = 4801, loss = 0.20692776 (0.277 sec)\n",
      "INFO:tensorflow:global_step/sec: 404.837\n",
      "INFO:tensorflow:step = 4901, loss = 0.22787566 (0.246 sec)\n",
      "INFO:tensorflow:global_step/sec: 411.462\n",
      "INFO:tensorflow:step = 5001, loss = 0.18541798 (0.243 sec)\n",
      "INFO:tensorflow:global_step/sec: 437.591\n",
      "INFO:tensorflow:step = 5101, loss = 0.23110275 (0.229 sec)\n",
      "INFO:tensorflow:global_step/sec: 458.195\n",
      "INFO:tensorflow:step = 5201, loss = 0.078319065 (0.218 sec)\n",
      "INFO:tensorflow:global_step/sec: 372.07\n",
      "INFO:tensorflow:step = 5301, loss = 0.37685385 (0.269 sec)\n",
      "INFO:tensorflow:global_step/sec: 421.696\n",
      "INFO:tensorflow:step = 5401, loss = 0.14531706 (0.238 sec)\n",
      "INFO:tensorflow:Saving checkpoints for 5500 into /tmp/mnist_deep_model/model.ckpt.\n",
      "INFO:tensorflow:Loss for final step: 0.14564773.\n"
     ]
    }
   ],
   "source": [
    "main(model_params, mode='train')"
   ]
  },
  {
   "cell_type": "code",
   "execution_count": 7,
   "metadata": {
    "collapsed": true,
    "deletable": true,
    "editable": true
   },
   "outputs": [],
   "source": [
    "from sklearn.metrics import classification_report as crep, accuracy_score as acc"
   ]
  },
  {
   "cell_type": "code",
   "execution_count": 18,
   "metadata": {
    "collapsed": false,
    "deletable": true,
    "editable": true
   },
   "outputs": [
    {
     "name": "stdout",
     "output_type": "stream",
     "text": [
      "Extracting MNIST-data/train-images-idx3-ubyte.gz\n",
      "Extracting MNIST-data/train-labels-idx1-ubyte.gz\n",
      "Extracting MNIST-data/t10k-images-idx3-ubyte.gz\n",
      "Extracting MNIST-data/t10k-labels-idx1-ubyte.gz\n",
      "INFO:tensorflow:Using default config.\n",
      "INFO:tensorflow:Using config: {'_keep_checkpoint_every_n_hours': 10000, '_model_dir': '/tmp/mnist_deep_model', '_session_config': None, '_tf_random_seed': 1, '_keep_checkpoint_max': 5, '_save_checkpoints_steps': None, '_save_checkpoints_secs': 600, '_log_step_count_steps': 100, '_save_summary_steps': 100}\n",
      "['input_layer', 'layer0', 'layer1', 'dropout_l1', 'layer2', 'layer3', 'dropout_l3', 'layer4', 'dropout_l4', 'layer5', 'dropout_l5', 'logits']\n",
      "INFO:tensorflow:Restoring parameters from /tmp/mnist_deep_model/model.ckpt-5500\n"
     ]
    }
   ],
   "source": [
    "preds = main(model_params, mode='predict')"
   ]
  },
  {
   "cell_type": "code",
   "execution_count": 19,
   "metadata": {
    "collapsed": false,
    "deletable": true,
    "editable": true
   },
   "outputs": [],
   "source": [
    "ypred3 = [c['classes'] for c in preds[0]]\n",
    "ytrue = preds[1]"
   ]
  },
  {
   "cell_type": "code",
   "execution_count": 20,
   "metadata": {
    "collapsed": false,
    "deletable": true,
    "editable": true
   },
   "outputs": [
    {
     "name": "stdout",
     "output_type": "stream",
     "text": [
      "acc:  0.9576 \n",
      "\n",
      "             precision    recall  f1-score   support\n",
      "\n",
      "          0       0.96      0.99      0.97       980\n",
      "          1       0.98      0.99      0.98      1135\n",
      "          2       0.96      0.96      0.96      1032\n",
      "          3       0.95      0.95      0.95      1010\n",
      "          4       0.96      0.95      0.96       982\n",
      "          5       0.96      0.94      0.95       892\n",
      "          6       0.95      0.96      0.96       958\n",
      "          7       0.96      0.95      0.96      1028\n",
      "          8       0.94      0.95      0.95       974\n",
      "          9       0.95      0.94      0.94      1009\n",
      "\n",
      "avg / total       0.96      0.96      0.96     10000\n",
      "\n"
     ]
    }
   ],
   "source": [
    "# model 1\n",
    "print('acc: ', acc(ytrue, ypred1), '\\n')\n",
    "print(crep(ytrue, ypred1))"
   ]
  },
  {
   "cell_type": "code",
   "execution_count": 21,
   "metadata": {
    "collapsed": false,
    "deletable": true,
    "editable": true
   },
   "outputs": [
    {
     "name": "stdout",
     "output_type": "stream",
     "text": [
      "acc:  0.9604 \n",
      "\n",
      "             precision    recall  f1-score   support\n",
      "\n",
      "          0       0.96      0.99      0.97       980\n",
      "          1       0.98      0.99      0.98      1135\n",
      "          2       0.96      0.96      0.96      1032\n",
      "          3       0.95      0.95      0.95      1010\n",
      "          4       0.96      0.95      0.96       982\n",
      "          5       0.96      0.94      0.95       892\n",
      "          6       0.95      0.96      0.96       958\n",
      "          7       0.96      0.95      0.96      1028\n",
      "          8       0.94      0.95      0.95       974\n",
      "          9       0.95      0.94      0.94      1009\n",
      "\n",
      "avg / total       0.96      0.96      0.96     10000\n",
      "\n"
     ]
    }
   ],
   "source": [
    "# model 2\n",
    "print('acc: ', acc(ytrue, ypred2), '\\n')\n",
    "print(crep(ytrue, ypred1))"
   ]
  },
  {
   "cell_type": "code",
   "execution_count": 22,
   "metadata": {
    "collapsed": false,
    "deletable": true,
    "editable": true
   },
   "outputs": [
    {
     "name": "stdout",
     "output_type": "stream",
     "text": [
      "acc:  0.9603 \n",
      "\n",
      "             precision    recall  f1-score   support\n",
      "\n",
      "          0       0.96      0.99      0.97       980\n",
      "          1       0.98      0.99      0.98      1135\n",
      "          2       0.96      0.96      0.96      1032\n",
      "          3       0.95      0.95      0.95      1010\n",
      "          4       0.96      0.95      0.96       982\n",
      "          5       0.96      0.94      0.95       892\n",
      "          6       0.95      0.96      0.96       958\n",
      "          7       0.96      0.95      0.96      1028\n",
      "          8       0.94      0.95      0.95       974\n",
      "          9       0.95      0.94      0.94      1009\n",
      "\n",
      "avg / total       0.96      0.96      0.96     10000\n",
      "\n"
     ]
    }
   ],
   "source": [
    "# model 3\n",
    "print('acc: ', acc(ytrue, ypred3), '\\n')\n",
    "print(crep(ytrue, ypred1))"
   ]
  }
 ],
 "metadata": {
  "kernelspec": {
   "display_name": "Python 3",
   "language": "python",
   "name": "python3"
  },
  "language_info": {
   "codemirror_mode": {
    "name": "ipython",
    "version": 3
   },
   "file_extension": ".py",
   "mimetype": "text/x-python",
   "name": "python",
   "nbconvert_exporter": "python",
   "pygments_lexer": "ipython3",
   "version": "3.4.5"
  }
 },
 "nbformat": 4,
 "nbformat_minor": 2
}
